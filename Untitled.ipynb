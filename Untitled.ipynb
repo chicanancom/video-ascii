{
 "cells": [
  {
   "cell_type": "code",
   "execution_count": 42,
   "id": "2a86bb9c",
   "metadata": {},
   "outputs": [],
   "source": [
    "import cv2\n",
    "import numpy as np\n",
    "from PIL import Image, ImageFont, ImageDraw"
   ]
  },
  {
   "cell_type": "code",
   "execution_count": 43,
   "id": "c4b16140",
   "metadata": {},
   "outputs": [],
   "source": [
    "cap = cv2.VideoCapture(\"test6.mp4\",0)\n",
    "CHAR_LIST = \"    8&WM#*oahkbdpqwmZO0QLC UYXzcvunxrjft/\\|()1{}[]?-_+~<>i!lI;:,\\\"^`'. \"\n",
    "bg_code = 0\n",
    "font = ImageFont.truetype(\"DejaVuSansMono-Bold.ttf\", size=int(10 * 1))\n",
    "num_chars = len(CHAR_LIST)\n",
    "num_cols = 100"
   ]
  },
  {
   "cell_type": "code",
   "execution_count": 44,
   "id": "ac910dd1",
   "metadata": {},
   "outputs": [],
   "source": [
    "def canny(img):\n",
    "    gray = cv2.cvtColor(img, cv2.COLOR_RGB2GRAY)\n",
    "    kernel = 5\n",
    "    blur = cv2.GaussianBlur(gray, (kernel, kernel), 0)\n",
    "    canny = cv2.Canny(blur, 50, 150)\n",
    "    return canny"
   ]
  },
  {
   "cell_type": "code",
   "execution_count": 45,
   "id": "0a753b2e",
   "metadata": {},
   "outputs": [],
   "source": [
    "def main(image, num_cols):\n",
    "    height, width, _ = image.shape\n",
    "    cell_width = width / num_cols\n",
    "    cell_height = 2 * cell_width\n",
    "    num_rows = int(height / cell_height)\n",
    "    if num_cols > width or num_rows > height:\n",
    "        print(\"Too many columns or rows. Use default setting\")\n",
    "        cell_width = 3\n",
    "        cell_height = 6\n",
    "        num_cols = int(width / cell_width)\n",
    "        num_rows = int(height / cell_height)\n",
    "    char_width, char_height = 6,12\n",
    "    out_width = char_width * num_cols\n",
    "    out_height = 2 * char_height * num_rows\n",
    "    out_image = Image.new(\"L\", (out_width, out_height), bg_code)\n",
    "    draw = ImageDraw.Draw(out_image)\n",
    "    for i in range(num_rows):\n",
    "        line = \"\".join([CHAR_LIST[min(int(np.mean(image[int(i * cell_height):min(int((i + 1) * cell_height), height),\n",
    "                int(j * cell_width):min(int((j + 1) * cell_width),\n",
    "                width)]) * num_chars / 255), num_chars - 1)]\n",
    "                for j in range(num_cols)]) + \"\\n\"\n",
    "        draw.text((0, i * char_height), line, fill=255 - bg_code, font=font)\n",
    "    cropped_image = out_image.getbbox()\n",
    "    out_image = out_image.crop(cropped_image)\n",
    "    out_image = cv2.cvtColor(np.array(out_image), cv2.COLOR_GRAY2BGR)\n",
    "    out_image = np.array(out_image)\n",
    "    return out_image"
   ]
  },
  {
   "cell_type": "code",
   "execution_count": 46,
   "id": "f3c15c25",
   "metadata": {},
   "outputs": [],
   "source": [
    "while (cap.isOpened()):\n",
    "    _, frame = cap.read()\n",
    "    lane_image = np.copy(cap)\n",
    "    resize = cv2.resize(frame, (400, 300))\n",
    "    ascii = main(resize,100)\n",
    "    canny_image = canny(resize)\n",
    "    cv2.imshow(\"result1\", ascii)\n",
    "    cv2.imshow(\"result\", resize)\n",
    "    cv2.imshow(\"result2\",canny_image)\n",
    "    if cv2.waitKey(1) & 0xFF == ord('q'):\n",
    "        break\n",
    "cap.release()\n",
    "cv2.destroyAllWindows()"
   ]
  },
  {
   "cell_type": "code",
   "execution_count": null,
   "id": "0de21024",
   "metadata": {},
   "outputs": [],
   "source": []
  }
 ],
 "metadata": {
  "kernelspec": {
   "display_name": "Python 3 (ipykernel)",
   "language": "python",
   "name": "python3"
  },
  "language_info": {
   "codemirror_mode": {
    "name": "ipython",
    "version": 3
   },
   "file_extension": ".py",
   "mimetype": "text/x-python",
   "name": "python",
   "nbconvert_exporter": "python",
   "pygments_lexer": "ipython3",
   "version": "3.10.9"
  }
 },
 "nbformat": 4,
 "nbformat_minor": 5
}
